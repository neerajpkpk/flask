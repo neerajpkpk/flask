{
 "cells": [
  {
   "cell_type": "code",
   "execution_count": null,
   "metadata": {},
   "outputs": [],
   "source": [
    "from flask import Flask\n",
    "from flask import request\n",
    "app=Flask(__name__)\n",
    "@app.route(\"/\")\n",
    "def hello():\n",
    "    return \"<h1>neeraj gupta</h1>\"\n",
    "@app.route(\"/secondHello\")\n",
    "def secondHello():\n",
    "    data = request.args.get('x')\n",
    "    return \"<h1> second neeraj gupta {} </h1>\".format(data)\n",
    "if __name__== \"__main__\":\n",
    "    app.run(host=\"0.0.0.0\")\n",
    "\n",
    "\n"
   ]
  },
  {
   "cell_type": "code",
   "execution_count": null,
   "metadata": {},
   "outputs": [],
   "source": []
  }
 ],
 "metadata": {
  "kernelspec": {
   "display_name": "Python 3",
   "language": "python",
   "name": "python3"
  },
  "language_info": {
   "codemirror_mode": {
    "name": "ipython",
    "version": 3
   },
   "file_extension": ".py",
   "mimetype": "text/x-python",
   "name": "python",
   "nbconvert_exporter": "python",
   "pygments_lexer": "ipython3",
   "version": "3.11.4"
  }
 },
 "nbformat": 4,
 "nbformat_minor": 2
}
